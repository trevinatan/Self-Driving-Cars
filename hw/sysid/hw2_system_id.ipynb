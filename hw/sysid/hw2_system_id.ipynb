{
 "cells": [
  {
   "cell_type": "code",
   "execution_count": 2,
   "metadata": {},
   "outputs": [],
   "source": [
    "import sys\n",
    "sys.path.append('../')\n",
    "\n",
    "import numpy as np\n",
    "import matplotlib.pyplot as plt\n",
    "from sklearn.linear_model import LinearRegression\n",
    "import json"
   ]
  },
  {
   "cell_type": "markdown",
   "metadata": {},
   "source": [
    "## Data Collection"
   ]
  },
  {
   "cell_type": "markdown",
   "metadata": {},
   "source": [
    "Before you can begin here you're going to have to collect some data driving around.  Run the simulator in sysID_data mode to do this (command below).  Just drive around, accelerating and braking as you normally would.  After driving around for a minute or two press 's' to save your data (You should receive a confirmation).\n",
    "\n",
    "python simulator.py --mode sysID_data\n",
    "\n",
    "As a reminder controls in the simulator are as follows:\n",
    "\n",
    "1.Press 'f' to get started (this puts you in forward gear)\n",
    "\n",
    "2.Arrow keys to control.\n",
    "\n",
    "3.Control C to exit simulator\n",
    "\n",
    "Don't forget to save your data before exiting!\n",
    "\n",
    "If your interested in further details during this assignment or next weeks, please reference the fully commented simulator.py file.  This file handles the simulator and it's interactions with user input and the Car_Interface."
   ]
  },
  {
   "cell_type": "markdown",
   "metadata": {},
   "source": [
    "## Data Preprocessing"
   ]
  },
  {
   "cell_type": "code",
   "execution_count": 3,
   "metadata": {},
   "outputs": [
    {
     "ename": "FileNotFoundError",
     "evalue": "[Errno 2] No such file or directory: 'complex_data_points.json'",
     "output_type": "error",
     "traceback": [
      "\u001b[0;31m---------------------------------------------------------------------------\u001b[0m",
      "\u001b[0;31mFileNotFoundError\u001b[0m                         Traceback (most recent call last)",
      "\u001b[0;32m<ipython-input-3-2e19f3d9b397>\u001b[0m in \u001b[0;36m<module>\u001b[0;34m\u001b[0m\n\u001b[1;32m      2\u001b[0m \u001b[0mLoad\u001b[0m \u001b[0mdata\u001b[0m \u001b[0mpoints\u001b[0m \u001b[0;32mfrom\u001b[0m \u001b[0mjson\u001b[0m \u001b[0mfile\u001b[0m\u001b[0;34m\u001b[0m\u001b[0;34m\u001b[0m\u001b[0m\n\u001b[1;32m      3\u001b[0m '''\n\u001b[0;32m----> 4\u001b[0;31m \u001b[0mdata_points\u001b[0m \u001b[0;34m=\u001b[0m \u001b[0mjson\u001b[0m\u001b[0;34m.\u001b[0m\u001b[0mload\u001b[0m\u001b[0;34m(\u001b[0m\u001b[0mopen\u001b[0m\u001b[0;34m(\u001b[0m\u001b[0;34m\"complex_data_points.json\"\u001b[0m\u001b[0;34m,\u001b[0m \u001b[0;34m\"r\"\u001b[0m\u001b[0;34m)\u001b[0m\u001b[0;34m)\u001b[0m\u001b[0;34m\u001b[0m\u001b[0;34m\u001b[0m\u001b[0m\n\u001b[0m\u001b[1;32m      5\u001b[0m \u001b[0;34m\u001b[0m\u001b[0m\n\u001b[1;32m      6\u001b[0m '''\n",
      "\u001b[0;31mFileNotFoundError\u001b[0m: [Errno 2] No such file or directory: 'complex_data_points.json'"
     ]
    }
   ],
   "source": [
    "'''\n",
    "Load data points from json file\n",
    "'''\n",
    "data_points = json.load(open(\"complex_data_points.json\", \"r\"))\n",
    "\n",
    "'''\n",
    "These lists will all be of length equal to the\n",
    "number of available data points. The first list\n",
    "will store the time each data point was logged,\n",
    "the second the 3-dimensional inputs discussed below,\n",
    "and the third the acceleration values.\n",
    "'''\n",
    "all_times = []\n",
    "all_inps = []\n",
    "all_outs = []\n",
    "\n",
    "'''\n",
    "These lists will store the same values as the ones\n",
    "above, except they will omit a specific set of data\n",
    "points that exhibit non linear behavior.  More on this\n",
    "below.\n",
    "'''\n",
    "filt_times = []\n",
    "filt_inps = []\n",
    "filt_outs = []\n",
    "\n",
    "\n",
    "'''\n",
    "t: 0 to (N - 1)\n",
    "ped: 'accelerator', 'brake', or None\n",
    "amt: 0 to 1\n",
    "vel: 0 to 1\n",
    "acc: 0 to 1\n",
    "'''\n",
    "for t, (ped, amt, vel, acc) in enumerate(data_points):\n",
    "    \n",
    "    '''\n",
    "    We are trying to fit a linear model for acceleration\n",
    "    that uses three values for inputs: the accelerator depression\n",
    "    amount, the brake depression amount, and the velocity.  Further\n",
    "    we will fit an intercept as well (bias).\n",
    "    \n",
    "    In order to do this we format our data as input output pairs where\n",
    "    input is a list consisting of the the appropriate linear dependencies\n",
    "    and the output is the corresponding acceleration.\n",
    "    \n",
    "    Your code should result in 'inp' referencing a list of length 3 that \n",
    "    contains: [accelerator amount, brake amount, velocity]\n",
    "    '''\n",
    "    \n",
    "    #CODE HERE\n",
    "    \n",
    "    all_inps.append(inp)\n",
    "    all_outs.append(acc)\n",
    "    all_times.append(t)\n",
    "\n",
    "    '''\n",
    "    You may notice that your linear model struggles with a specific scenario.\n",
    "    This scenario results in your linear model being a poor fit for the general trend.\n",
    "    Specifically there is a specific circumstance in which acceleration behaves nonlinearly,\n",
    "    and it hurts the model to accomodate this.\n",
    "    Here we will remedy this issue by filtering out the nonlinear scenario and fit a better\n",
    "    linear model to the true linear data.\n",
    "    HINT: Do you ever move backwards when in forward gear? When might the model think you should?\n",
    "    '''\n",
    "    #CODE HERE (replace 'True')\n",
    "    if (True):\n",
    "        filt_inps.append(inp)\n",
    "        filt_outs.append(acc)\n",
    "        filt_times.append(t)\n",
    "\n",
    "\n",
    "\n",
    "plt.title(\"Collected Data\")\n",
    "plt.xlabel(\"Time\")\n",
    "plt.ylabel(\"Acceleration\")\n",
    "plt.scatter(all_times, all_outs, color = 'b')\n",
    "plt.show()\n",
    "\n",
    "plt.title(\"Collected Data\")\n",
    "plt.xlabel(\"Time\")\n",
    "plt.ylabel(\"Velocity\")\n",
    "plt.scatter(all_times, [vel for (_, _, vel) in all_inps], color = 'b')\n",
    "plt.show()"
   ]
  },
  {
   "cell_type": "markdown",
   "metadata": {},
   "source": [
    "## Coefficient Estimation via Linear Regression"
   ]
  },
  {
   "cell_type": "code",
   "execution_count": null,
   "metadata": {},
   "outputs": [],
   "source": [
    "'''\n",
    "Lookup the sklearn LinearRegression documenation if need be.\n",
    "Alternatively you may reference housing_demo.py\n",
    "\n",
    "1. Instantiate a LinearRegression Model.\n",
    "2. Fit the model with all inputs and all outputs.\n",
    "3. Assign 'fit_score' to the sklearn score on the inputs and outputs.\n",
    "4. Extract the learned coefficients and intercept (see coef_ and intercept_ attributes)\n",
    "'''\n",
    "\n",
    "#CODE HERE\n",
    "\n",
    "print(f\"Model Fit {fit_score}\")\n",
    "print(f\"Model Predictions:\")\n",
    "\n",
    "\n",
    "'''\n",
    "Fill in the blanks in the next 4 lines with\n",
    "references to the 4 learned coefficients\n",
    "\n",
    "Remember the linear model is as follows:\n",
    "accel = c_1 * accel_amt + c_2* brake_amt + c_3 * v + c_4\n",
    "\n",
    "c_1: accelerator_weight\n",
    "c_2: brake_weight\n",
    "c_3: -friction_constant\n",
    "c_4: rolling_bias\n",
    "'''\n",
    "print(f\"Accelerator Weight: {___}\")\n",
    "print(f\"Brake Weight: {___}\")\n",
    "print(f\"Friction Constant: {___}\")\n",
    "print(f\"Rolling Bias: {___}\")\n",
    "print(\"___________________________________________\")\n",
    "\n",
    "plt.clf()\n",
    "plt.title(\"Model Predictions on all Data\")\n",
    "plt.xlabel(\"Time\")\n",
    "plt.ylabel(\"Acceleration\")\n",
    "plt.scatter(all_times, all_outs, color = 'b')\n",
    "plt.scatter(all_times, model.predict(all_inps), color = 'r')\n",
    "plt.show()"
   ]
  },
  {
   "cell_type": "code",
   "execution_count": null,
   "metadata": {},
   "outputs": [],
   "source": [
    "'''\n",
    "You may use this function as is to evaluate the accuracy of\n",
    "the model coefficients you have discovered.\n",
    "'''\n",
    "def evaluate(preds, targets, tol = 0.02):\n",
    "    correct = 0\n",
    "    errors = []\n",
    "\n",
    "    for i, (prediction, target) in enumerate(zip(preds, targets)):\n",
    "        print(f\"EVALUATING {i + 1}/{len(all_inps)}\", end = \"\\r\")\n",
    "\n",
    "        if (abs(prediction - target) < tol):\n",
    "            correct += 1\n",
    "        errors.append(prediction - target)\n",
    "\n",
    "    print(f\"WITHIN {tol} {correct}/{len(targets)} times\")\n",
    "    print(f\"MEDIAN ERROR {np.median(np.abs(errors)):.4f}\")\n",
    "\n",
    "    plt.title(\"Error Distribution\")\n",
    "    plt.hist(errors, bins = 200, range = (-0.15, 0.15))\n",
    "    plt.show()"
   ]
  },
  {
   "cell_type": "code",
   "execution_count": null,
   "metadata": {},
   "outputs": [],
   "source": [
    "evaluate(preds = model.predict(all_inps), targets = all_outs)"
   ]
  },
  {
   "cell_type": "code",
   "execution_count": null,
   "metadata": {},
   "outputs": [],
   "source": [
    "'''\n",
    "Repeat the previous process but now using the filtered\n",
    "input and outputs only.\n",
    "'''\n",
    "\n",
    "#CODE HERE\n",
    "\n",
    "print(f\"Model Fit {fit_score}\")\n",
    "\n",
    "\n",
    "'''\n",
    "Fill in the blanks as in the previous section\n",
    "'''\n",
    "print(f\"Accelerator Weight: {___}\")\n",
    "print(f\"Brake Weight: {___}\")\n",
    "print(f\"Friction Constant: {___}\")\n",
    "print(f\"Rolling Bias: {___}\")\n",
    "print(\"___________________________________________\")\n",
    "\n",
    "\n",
    "plt.clf()\n",
    "plt.title(\"Filtered Data\")\n",
    "plt.scatter(filt_times, filt_outs, color = 'b')\n",
    "plt.xlabel(\"Time\")\n",
    "plt.ylabel(\"Acceleration\")\n",
    "plt.show()\n",
    "\n",
    "plt.clf()\n",
    "plt.title(\"Model Predictions on Filtered Data\")\n",
    "plt.xlabel(\"Time\")\n",
    "plt.ylabel(\"Acceleration\")\n",
    "plt.scatter(filt_times, filt_outs, color = 'b')\n",
    "plt.scatter(filt_times, model.predict(filt_inps), color = 'r')\n",
    "plt.show()"
   ]
  },
  {
   "cell_type": "code",
   "execution_count": null,
   "metadata": {},
   "outputs": [],
   "source": [
    "evaluate(preds = model.predict(filt_inps), targets = filt_outs)"
   ]
  },
  {
   "cell_type": "markdown",
   "metadata": {},
   "source": [
    "## Model Evaluation"
   ]
  },
  {
   "cell_type": "markdown",
   "metadata": {},
   "source": [
    "Before you can evaluate our learned coefficients you will have to complete the controller_model.py file.  We will use the controller_model file to mimic the actual controller.\n",
    "\n",
    "1. Around line 41 replace the 'None' placeholders with your learned coefficients.\n",
    "2. Around line 115 follow the instructional comments to compute acceleration as a function of the pedal inputs.\n",
    "3. Around line 163 follow the instructional comments to update position and velocity, assuming constant acceleration over the dt length time interval.\n",
    "\n",
    "Once you complete these steps you should be able to run the simulator in sysID_test mode (command below).\n",
    "\n",
    "python simulator.py --mode sysID_test\n",
    "\n",
    "Once you are able to successfully run this, drive around for a bit.  Just as we provide inputs to the actual controller Car_Interface, we will provide controls to the controller_model Car_Interface.  We consider the average discrepancy between the model velocity and the actual velocity over the last 100 time steps as the model error.\n",
    "\n",
    "You will notice your average error being displayed in your terminal window (after an preliminary period).  You will be checked off if the maximum average error does not exceed the threshold of 0.75% (an exception will be raised if it does). (NOTE: just noise will result in a perfect model having an error of ~0.4%)"
   ]
  },
  {
   "cell_type": "code",
   "execution_count": null,
   "metadata": {},
   "outputs": [],
   "source": []
  }
 ],
 "metadata": {
  "kernelspec": {
   "display_name": "Python 3",
   "language": "python",
   "name": "python3"
  },
  "language_info": {
   "codemirror_mode": {
    "name": "ipython",
    "version": 3
   },
   "file_extension": ".py",
   "mimetype": "text/x-python",
   "name": "python",
   "nbconvert_exporter": "python",
   "pygments_lexer": "ipython3",
   "version": "3.7.4"
  }
 },
 "nbformat": 4,
 "nbformat_minor": 2
}
